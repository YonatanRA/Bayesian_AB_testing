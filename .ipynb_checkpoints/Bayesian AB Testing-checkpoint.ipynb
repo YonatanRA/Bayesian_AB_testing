{
 "cells": [
  {
   "cell_type": "markdown",
   "metadata": {},
   "source": [
    "# Bayes\n",
    "\n",
    "https://en.wikipedia.org/wiki/Thomas_Bayes"
   ]
  },
  {
   "cell_type": "markdown",
   "metadata": {},
   "source": [
    "![bayes](bayes0.jpeg)"
   ]
  },
  {
   "cell_type": "markdown",
   "metadata": {},
   "source": [
    "$$A \\cap B = B \\cap A$$"
   ]
  },
  {
   "cell_type": "markdown",
   "metadata": {},
   "source": [
    "$$P(A \\cap B) = P(B \\cap A)$$"
   ]
  },
  {
   "cell_type": "markdown",
   "metadata": {},
   "source": [
    "$$P(A|B) = \\frac{P(A \\cap B)}{P(B)}$$"
   ]
  },
  {
   "cell_type": "markdown",
   "metadata": {},
   "source": [
    "### Regla de Bayes\n",
    "\n",
    "$$P(A|B) = \\frac{P(B|A)P(A)}{P(B)}$$"
   ]
  },
  {
   "cell_type": "markdown",
   "metadata": {},
   "source": [
    "donde:\n",
    "\n",
    "+ $P(A|B) :=$ A posteriori\n",
    "+ $P(A) :=$ A priori\n",
    "+ $P(B|A) :=$ Verosimilitud (likelihood)\n",
    "+ $P(B) :=$ Marginal de B\n",
    "\n",
    "\n",
    "En realidad:\n",
    "$$P(B) = \\sum_{\\Omega} P(B|A)P(A)$$"
   ]
  },
  {
   "cell_type": "markdown",
   "metadata": {},
   "source": [
    "# Conjugado a priori"
   ]
  },
  {
   "cell_type": "markdown",
   "metadata": {},
   "source": [
    "https://en.wikipedia.org/wiki/Conjugate_prior\n",
    "\n",
    "https://en.wikipedia.org/wiki/Beta_distribution"
   ]
  },
  {
   "cell_type": "code",
   "execution_count": 1,
   "metadata": {},
   "outputs": [
    {
     "data": {
      "image/png": "[encoded data removed]",
      "text/plain": [
       "<Figure size 432x288 with 6 Axes>"
      ]
     },
     "metadata": {
      "needs_background": "light"
     },
     "output_type": "display_data"
    }
   ],
   "source": [
    "# tiros_de_moneda.py  (modelo beta-binomial)\n",
    "\n",
    "import warnings\n",
    "warnings.simplefilter('ignore')\n",
    "import numpy as np\n",
    "import matplotlib.pyplot as plt\n",
    "from scipy.stats import bernoulli, beta               \n",
    "\n",
    "\n",
    "tiradas=[0,2,10,20,50,500]    # lista del numero de intentos (experimentos de Bernoulli)\n",
    "  \n",
    "datos=bernoulli.rvs(0.5,size=tiradas[-1])   # se tiran 500 veces la moneda, 0-cruz, 1-cara (B(p,n))\n",
    "\n",
    "x=np.linspace(0,1,100)  # espaciado lineal entre 0 y 1, 100 puntos, se discretiza el eje x\n",
    "\n",
    "\n",
    "for i,N in enumerate(tiradas):  # se actualiza la informacion respecto al nº de tiradas, modelo beta-binomial (i actualizaciones , N tiradas)\n",
    "\n",
    "    caras=datos[:N].sum()        # suma las caras que van saliendo\n",
    "    ax=plt.subplot(len(tiradas)/2, 2, i+1)             # se crea un plot cada vez que se actualiza\n",
    "    ax.set_title(\"%s tiradas, %s caras\" % (N, caras))  # titulo  \n",
    "    plt.xlabel(\"$P(x)$, Probabilidad de Cara\")         # etiqueta x\n",
    "    plt.ylabel(\"Densidad\")                             # etiqueta y\n",
    "    if i == 0:                                         # limite del eje y en el primer plot (0 tiradas)\n",
    "        plt.ylim([0.0, 2.0])\n",
    "    plt.setp(ax.get_yticklabels(), visible=False)      # quita los numeros del eje y\n",
    "    y=beta.pdf(x, 1+caras, 1+N-caras)                  # se crea y se dibuja la distribucion beta que representa... (Beta(x,a,b))\n",
    "    plt.plot(x,y)                                      # ... la creencia a posteriori de la perfeccion de la moneda (beta-binomial, bayesiano)\n",
    "    plt.fill_between(x, 0, y, color='b', alpha=0.5)    # se rellena de color la distribucion \n",
    "\n",
    "\n",
    "plt.tight_layout()  # se expande el plot\n",
    "plt.show();         # se plotea"
   ]
  },
  {
   "cell_type": "markdown",
   "metadata": {},
   "source": [
    "# A/B testing bayesiano"
   ]
  },
  {
   "cell_type": "code",
   "execution_count": 2,
   "metadata": {},
   "outputs": [],
   "source": [
    "from bayes_func import *"
   ]
  },
  {
   "cell_type": "code",
   "execution_count": 3,
   "metadata": {},
   "outputs": [
    {
     "name": "stdout",
     "output_type": "stream",
     "text": [
      "Tasas 0.0018181818181818182 0.0029411764705882353\n"
     ]
    }
   ],
   "source": [
    "# manera frecuentista\n",
    "\n",
    "# los datos son conocidos: impresiones, conversiones, control y test\n",
    "imps_ctrl, convs_ctrl= 16500, 30\n",
    "imps_test, convs_test= 17000, 50\n",
    "\n",
    "CR_ctrl=convs_ctrl/imps_ctrl\n",
    "CR_test=convs_test/imps_test\n",
    "\n",
    "print ('Tasas', CR_ctrl, CR_test)"
   ]
  },
  {
   "cell_type": "code",
   "execution_count": 4,
   "metadata": {},
   "outputs": [],
   "source": [
    "# se crean funciones beta\n",
    "# aprioris\n",
    "\n",
    "a_C, b_C = convs_ctrl+1, imps_ctrl-convs_ctrl+1\n",
    "a_T, b_T = convs_test+1, imps_test-convs_test+1\n",
    "\n",
    "beta_C=beta(a_C, b_C)  # control\n",
    "beta_T=beta(a_T, b_T)  # test"
   ]
  },
  {
   "cell_type": "code",
   "execution_count": 5,
   "metadata": {},
   "outputs": [],
   "source": [
    "# diferencia normalizada de las medias de test y control\n",
    "\n",
    "salto=(beta_T.mean()-beta_C.mean())/beta_C.mean()  "
   ]
  },
  {
   "cell_type": "code",
   "execution_count": 6,
   "metadata": {},
   "outputs": [],
   "source": [
    "prob=calc_prob(beta_T, beta_C)"
   ]
  },
  {
   "cell_type": "code",
   "execution_count": 7,
   "metadata": {},
   "outputs": [
    {
     "name": "stdout",
     "output_type": "stream",
     "text": [
      "El test aumenta la tasa de conversion en un 59.68%,\n",
      "con una probabilidad del 98.21%\n"
     ]
    }
   ],
   "source": [
    "print (\n",
    "'''El test aumenta la tasa de conversion en un {:2.2f}%,\n",
    "con una probabilidad del {:2.2f}%'''\n",
    "    .format(salto*100, prob*100)\n",
    ")"
   ]
  },
  {
   "cell_type": "code",
   "execution_count": 8,
   "metadata": {},
   "outputs": [
    {
     "name": "stdout",
     "output_type": "stream",
     "text": [
      "0.0018181818181818182 0.0029411764705882353\n"
     ]
    },
    {
     "data": {
      "image/png": "[encoded data removed]",
      "text/plain": [
       "<Figure size 432x288 with 1 Axes>"
      ]
     },
     "metadata": {
      "needs_background": "light"
     },
     "output_type": "display_data"
    }
   ],
   "source": [
    "print (CR_ctrl, CR_test)\n",
    "plot([beta_C, beta_T], ['Control', 'Test'])"
   ]
  },
  {
   "cell_type": "code",
   "execution_count": null,
   "metadata": {
    "scrolled": false
   },
   "outputs": [],
   "source": [
    "import pandas as pd\n",
    "import seaborn as sns\n",
    "\n",
    "val_C=np.random.beta(a_C, b_C, 50000)\n",
    "val_T=np.random.beta(a_T, b_T, 50000)\n",
    "\n",
    "vals=np.vstack([val_C, val_T]).T\n",
    "limit=0.004\n",
    "\n",
    "df=pd.DataFrame(vals, columns=['Control','Test'])\n",
    "df=df[df.Control<limit]\n",
    "df=df[df.Test<limit]\n",
    "\n",
    "\n",
    "g=sns.jointplot(x=df.Control, y=df.Test, kind='kde', n_levels=15)\n",
    "g.ax_joint.plot([0.0015, limit], [0.0015, limit])\n",
    "plt.show();\n"
   ]
  },
  {
   "cell_type": "markdown",
   "metadata": {},
   "source": [
    "### what if...? \n",
    "\n",
    "¿cual es la prob de que el test sea superior a 0.003 (CR)?"
   ]
  },
  {
   "cell_type": "code",
   "execution_count": null,
   "metadata": {},
   "outputs": [],
   "source": [
    "from mpmath import betainc   # integral de beta\n",
    "\n",
    "\n",
    "p=betainc(a_T, b_T, 0.003, 1, regularized=True)\n",
    "\n",
    "p"
   ]
  },
  {
   "cell_type": "code",
   "execution_count": null,
   "metadata": {},
   "outputs": [],
   "source": []
  }
 ],
 "metadata": {
  "kernelspec": {
   "display_name": "Python 3",
   "language": "python",
   "name": "python3"
  },
  "language_info": {
   "codemirror_mode": {
    "name": "ipython",
    "version": 3
   },
   "file_extension": ".py",
   "mimetype": "text/x-python",
   "name": "python",
   "nbconvert_exporter": "python",
   "pygments_lexer": "ipython3",
   "version": "3.8.2"
  }
 },
 "nbformat": 4,
 "nbformat_minor": 2
}
